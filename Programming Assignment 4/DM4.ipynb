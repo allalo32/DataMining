{
 "cells": [
  {
   "cell_type": "markdown",
   "id": "41771bc3-611a-4814-b513-21bc6b931c4a",
   "metadata": {},
   "source": [
    "### Assignment - 4 ::  Clustering Analysis\r\n"
   ]
  },
  {
   "cell_type": "code",
   "execution_count": 1,
   "id": "4f15e31f-437f-4e11-9923-b4acf06336e1",
   "metadata": {},
   "outputs": [
    {
     "data": {
      "text/plain": [
       "['Cropped/n02085620-Chihuahua',\n",
       " 'Cropped/n02089078-black-and-tan_coonhound',\n",
       " 'Cropped/n02091134-whippet',\n",
       " 'Cropped/n02108915-French_bulldog']"
      ]
     },
     "execution_count": 1,
     "metadata": {},
     "output_type": "execute_result"
    }
   ],
   "source": [
    "import os\n",
    "path = \"Cropped/\" \n",
    "folders = [os.path.join(path, folder) for folder in os.listdir(path)]\n",
    "folders"
   ]
  },
  {
   "cell_type": "code",
   "execution_count": 3,
   "id": "90c16064-c804-434e-8e1e-72bdf38303b1",
   "metadata": {},
   "outputs": [],
   "source": [
    "import torchvision.transforms as transforms\n",
    "transform = transforms.Compose([\n",
    "    transforms.Resize((224, 224)),\n",
    "    transforms.ToTensor(),\n",
    "    transforms.Normalize(mean=[0.485, 0.456, 0.406], std=[0.229, 0.224, 0.225]),\n",
    "])"
   ]
  },
  {
   "cell_type": "markdown",
   "id": "e8011695-42f6-4572-9c74-79e37f7223a8",
   "metadata": {},
   "source": [
    "### creating model"
   ]
  },
  {
   "cell_type": "code",
   "execution_count": 5,
   "id": "2421abc8-7a71-4b80-a79f-4a7c6c938a90",
   "metadata": {},
   "outputs": [],
   "source": [
    "import torchvision.models as models\n",
    "import warnings\n",
    "warnings.filterwarnings(\"ignore\")"
   ]
  },
  {
   "cell_type": "markdown",
   "id": "634ba407-801a-4d7b-b9e2-6f6f6672b8e9",
   "metadata": {},
   "source": [
    "### https://kozodoi.me/blog/20210527/extracting-features"
   ]
  },
  {
   "cell_type": "code",
   "execution_count": 6,
   "id": "790a8552-d3a7-4684-95a8-7e42bd538706",
   "metadata": {},
   "outputs": [],
   "source": [
    "from PIL import Image\n",
    "import torch\n",
    "\n",
    "res_model = models.resnet18(pretrained=True)\n",
    "res_model.eval() \n",
    "last_layer = res_model._modules.get('layer4')  \n",
    "layer_features = []\n",
    "labels = []  \n",
    "class_labels = {x: i for i, x in enumerate(folders)}\n",
    "## forwar hook\n",
    "def get_features(module, input, output):\n",
    "    layer_features.append(output.squeeze().detach().numpy())\n",
    "hook = last_layer.register_forward_hook(get_features)\n",
    "for folder, label in class_labels.items():\n",
    "    for img_name in os.listdir(folder):\n",
    "        img_path = os.path.join(folder, img_name)\n",
    "        try:\n",
    "            image = Image.open(img_path).convert('RGB')\n",
    "            input_tensor = transform(image).unsqueeze(0)\n",
    "            with torch.no_grad():\n",
    "                _ = res_model(input_tensor)\n",
    "            labels.append(label)\n",
    "        except Exception as e:\n",
    "            print(f\"Error processing image {img_name}: {e}\")"
   ]
  },
  {
   "cell_type": "code",
   "execution_count": 7,
   "id": "3c28ce49-1fb2-4677-b53a-5ea4c12bf9c4",
   "metadata": {},
   "outputs": [],
   "source": [
    "hook.remove()"
   ]
  },
  {
   "cell_type": "markdown",
   "id": "4eb77bd8-d7ea-4c17-a11f-943d1db6f85f",
   "metadata": {},
   "source": [
    "### PCA "
   ]
  },
  {
   "cell_type": "code",
   "execution_count": 9,
   "id": "32aba3e8-0274-4447-874b-66abefb7047a",
   "metadata": {},
   "outputs": [],
   "source": [
    "from sklearn.decomposition import PCA\n",
    "import numpy as np\n",
    "f = np.array(layer_features)\n",
    "l = np.array(labels)\n",
    "f = f.reshape(f.shape[0], -1)\n",
    "pca_model = PCA(n_components=2)\n",
    "f_2d = pca_model.fit_transform(f)"
   ]
  },
  {
   "cell_type": "markdown",
   "id": "0db5d9b3-822b-4eb2-a82c-783476acad77",
   "metadata": {},
   "source": [
    "### Clustering Techniques "
   ]
  },
  {
   "cell_type": "markdown",
   "id": "9ad77c70-7488-46f1-a6ee-69b86f12dec8",
   "metadata": {},
   "source": [
    "#### https://scikit-learn.org/stable/modules/clustering.html"
   ]
  },
  {
   "cell_type": "code",
   "execution_count": 13,
   "id": "dd1d6941-c7bc-4c80-b092-d0c7ec900f41",
   "metadata": {},
   "outputs": [],
   "source": [
    "from sklearn.cluster import KMeans,BisectingKMeans, SpectralClustering, DBSCAN, AgglomerativeClustering\n",
    "\n",
    "preds = {}\n"
   ]
  },
  {
   "cell_type": "code",
   "execution_count": 18,
   "id": "605b6d15-8a41-4014-a72b-549e5fe5f972",
   "metadata": {},
   "outputs": [],
   "source": [
    "kmeans_random = KMeans(n_clusters=4, init='random', random_state=42)\n",
    "kmeans_labels = kmeans_random.fit_predict(f_2d)\n",
    "preds['K-Means (Random)'] = kmeans_labels"
   ]
  },
  {
   "cell_type": "code",
   "execution_count": 20,
   "id": "2c1291ec-e923-46a5-b94e-14542eb0f5cd",
   "metadata": {},
   "outputs": [],
   "source": [
    "kmeans_plus = KMeans(n_clusters=4, init='k-means++', random_state=42)\n",
    "kmeans_pl = kmeans_plus.fit_predict(f_2d)\n",
    "preds['(k-means++)'] = kmeans_pl"
   ]
  },
  {
   "cell_type": "code",
   "execution_count": 22,
   "id": "d083c678-b245-4519-bd26-e16b5228c95d",
   "metadata": {},
   "outputs": [],
   "source": [
    "bisecting_kmeans = BisectingKMeans(n_clusters=4, init='random', random_state=42)\n",
    "bi_l = bisecting_kmeans.fit_predict(f_2d)\n",
    "preds['Bisecting K-Means'] = bi_l"
   ]
  },
  {
   "cell_type": "code",
   "execution_count": 24,
   "id": "3845e376-cb98-420a-a02b-4a3c15ae9d05",
   "metadata": {},
   "outputs": [],
   "source": [
    "spectral = SpectralClustering(n_clusters=4, random_state=42)\n",
    "spec_l = spectral.fit_predict(f_2d)\n",
    "preds['Spectral Clustering'] = spec_l"
   ]
  },
  {
   "cell_type": "code",
   "execution_count": 25,
   "id": "c19be6a4-59d2-44a9-b547-7021e0bf1a45",
   "metadata": {},
   "outputs": [],
   "source": [
    "ward = AgglomerativeClustering(n_clusters=4, linkage='ward')\n",
    "wardlabel = ward.fit_predict(f_2d)\n",
    "preds[f'Agglomerative (ward)'] = wardlabel"
   ]
  },
  {
   "cell_type": "code",
   "execution_count": 26,
   "id": "b90958f9-9073-4eb5-b6f9-6189906bcb84",
   "metadata": {},
   "outputs": [],
   "source": [
    "complete = AgglomerativeClustering(n_clusters=4, linkage='complete')\n",
    "completelabel = complete.fit_predict(f_2d)\n",
    "preds[f'Agglomerative (complete)'] = completelabel"
   ]
  },
  {
   "cell_type": "code",
   "execution_count": 27,
   "id": "4e7476c9-1e47-436c-a8df-504a9848e31e",
   "metadata": {},
   "outputs": [],
   "source": [
    "average = AgglomerativeClustering(n_clusters=4, linkage='average')\n",
    "averagelabel = average.fit_predict(f_2d)\n",
    "preds[f'Agglomerative (average)'] = averagelabel"
   ]
  },
  {
   "cell_type": "code",
   "execution_count": 28,
   "id": "3a3fd032-a62a-4937-8160-e80f72aef7d2",
   "metadata": {},
   "outputs": [],
   "source": [
    "single = AgglomerativeClustering(n_clusters=4, linkage='single')\n",
    "singlelabel = single.fit_predict(f_2d)\n",
    "preds[f'Agglomerative (single)'] = singlelabel"
   ]
  },
  {
   "cell_type": "code",
   "execution_count": 29,
   "id": "11958a30-1fad-417e-8395-b9f1e7b5ccc9",
   "metadata": {},
   "outputs": [
    {
     "name": "stdout",
     "output_type": "stream",
     "text": [
      "num of clusters: 4\n"
     ]
    }
   ],
   "source": [
    "dbscan = DBSCAN(eps=3.1, min_samples=7).fit(f_2d)\n",
    "pred= dbscan.labels_\n",
    "n=len(set(pred))-(1 if -1 in pred else 0)\n",
    "print('num of clusters: '+str(n))\n",
    "preds['dbscan'] = pred"
   ]
  },
  {
   "cell_type": "code",
   "execution_count": 30,
   "id": "db3df758-08cb-4b62-918e-e96c2f80cfce",
   "metadata": {},
   "outputs": [],
   "source": [
    "from sklearn.metrics import fowlkes_mallows_score, silhouette_score"
   ]
  },
  {
   "cell_type": "code",
   "execution_count": 31,
   "id": "71792309-a817-4d98-bfe6-d63e3f5b8d8a",
   "metadata": {},
   "outputs": [],
   "source": [
    "fowlkes_mallows_scores = {}\n",
    "silhouette_scores = {}"
   ]
  },
  {
   "cell_type": "code",
   "execution_count": 32,
   "id": "3052f52f-a373-4d82-80af-5616b51535b6",
   "metadata": {},
   "outputs": [],
   "source": [
    "for model, predicts in preds.items():\n",
    "    fm= fowlkes_mallows_score(labels, predicts)\n",
    "    sil = silhouette_score(f_2d, predicts)\n",
    "    fowlkes_mallows_scores[model] = fm\n",
    "    silhouette_scores[model] = sil"
   ]
  },
  {
   "cell_type": "code",
   "execution_count": 42,
   "id": "432a2822-0481-46c8-97c6-78ea49c5c428",
   "metadata": {},
   "outputs": [
    {
     "name": "stdout",
     "output_type": "stream",
     "text": [
      "\n",
      "Fowlkes-Mallows Index Rankings:\n",
      "Agglomerative (average): 0.7913646155149442\n",
      "Agglomerative (ward): 0.7173432849135426\n",
      "K-Means (Random): 0.7012661782389416\n",
      "Bisecting K-Means: 0.6978067138546405\n",
      "Agglomerative (complete): 0.6919126835646533\n",
      "(k-means++): 0.6807228213757737\n",
      "Spectral Clustering: 0.506013017358337\n",
      "Agglomerative (single): 0.5043698200953882\n",
      "dbscan: 0.49227632117430625\n",
      "\n",
      "Silhouette Coefficient Rankings:\n",
      "Agglomerative (average): 0.5522032976150513\n",
      "Bisecting K-Means: 0.5289257764816284\n",
      "(k-means++): 0.5061092972755432\n",
      "K-Means (Random): 0.5030260682106018\n",
      "Agglomerative (complete): 0.4893679618835449\n",
      "Agglomerative (ward): 0.47830480337142944\n",
      "Spectral Clustering: -0.021852178499102592\n",
      "dbscan: -0.19005639851093292\n",
      "Agglomerative (single): -0.2430742084980011\n"
     ]
    }
   ],
   "source": [
    "metrics = {\n",
    "    \"Fowlkes-Mallows Index\": fowlkes_mallows_scores,\n",
    "    \"Silhouette Coefficient\": silhouette_scores,\n",
    "}\n",
    "\n",
    "for metric_name, score_dict in metrics.items():\n",
    "    ranking = sorted(score_dict.items(), key=lambda x: x[1], reverse=True)\n",
    "    print(f\"\\n{metric_name} Rankings:\")\n",
    "    print(\"\\n\".join(f\"{method}: {score}\" for method, score in ranking))\n"
   ]
  }
 ],
 "metadata": {
  "kernelspec": {
   "display_name": "Python 3 (ipykernel)",
   "language": "python",
   "name": "python3"
  },
  "language_info": {
   "codemirror_mode": {
    "name": "ipython",
    "version": 3
   },
   "file_extension": ".py",
   "mimetype": "text/x-python",
   "name": "python",
   "nbconvert_exporter": "python",
   "pygments_lexer": "ipython3",
   "version": "3.12.4"
  }
 },
 "nbformat": 4,
 "nbformat_minor": 5
}
